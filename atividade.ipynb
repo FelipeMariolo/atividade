{
  "nbformat": 4,
  "nbformat_minor": 0,
  "metadata": {
    "colab": {
      "name": "Untitled0.ipynb",
      "provenance": [],
      "authorship_tag": "ABX9TyOaPH14EfHl0nUSfEeAXu0L",
      "include_colab_link": true
    },
    "kernelspec": {
      "name": "python3",
      "display_name": "Python 3"
    },
    "language_info": {
      "name": "python"
    }
  },
  "cells": [
    {
      "cell_type": "markdown",
      "metadata": {
        "id": "view-in-github",
        "colab_type": "text"
      },
      "source": [
        "<a href=\"https://colab.research.google.com/github/FelipeMariolo/atividade/blob/main/atividade.ipynb\" target=\"_parent\"><img src=\"https://colab.research.google.com/assets/colab-badge.svg\" alt=\"Open In Colab\"/></a>"
      ]
    },
    {
      "cell_type": "code",
      "execution_count": 28,
      "metadata": {
        "colab": {
          "base_uri": "https://localhost:8080/"
        },
        "id": "QJuqMrJ9cvPe",
        "outputId": "7cd2cd3c-1718-48bc-b5a5-b4121d0af2db"
      },
      "outputs": [
        {
          "output_type": "stream",
          "name": "stdout",
          "text": [
            "digite o salario: 750\n",
            "digite a porcentagem:15\n",
            "5000.0\n"
          ]
        }
      ],
      "source": [
        "salario = input(\"digite o salario: \")\n",
        "valor_do_salario = float(salario)\n",
        "porcentagem = input(\"digite a porcentagem:\" )\n",
        "valor_da_porcentagem = float(porcentagem)\n",
        "total =(valor_do_salario/valor_da_porcentagem)*100\n",
        "print (total)"
      ]
    }
  ]
}